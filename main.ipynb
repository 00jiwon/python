{
 "cells": [
  {
   "cell_type": "code",
   "execution_count": 9,
   "metadata": {},
   "outputs": [
    {
     "name": "stdout",
     "output_type": "stream",
     "text": [
      "function1 from module1\n",
      "function2 from module2\n",
      "function11 from module1\n"
     ]
    }
   ],
   "source": [
    "import my_package\n",
    "\n",
    "my_package.function1()\n",
    "my_package.function2()\n",
    "\n",
    "my_package.function11()"
   ]
  },
  {
   "cell_type": "code",
   "execution_count": 1,
   "metadata": {},
   "outputs": [
    {
     "name": "stdout",
     "output_type": "stream",
     "text": [
      "안녕하세요, 철수님!\n",
      "안녕히 가세요, 영희님!\n"
     ]
    }
   ],
   "source": [
    "from my_package3 import module1, module2\n",
    "\n",
    "print(module1.greet(\"철수\"))\n",
    "print(module2.farewell(\"영희\"))"
   ]
  },
  {
   "cell_type": "code",
   "execution_count": 8,
   "metadata": {},
   "outputs": [
    {
     "name": "stdout",
     "output_type": "stream",
     "text": [
      "[0, 1, 4, 9, 16, 25, 36, 49, 64, 81]\n",
      "0\n",
      "1\n",
      "4\n",
      "9\n",
      "16\n",
      "25\n"
     ]
    }
   ],
   "source": [
    "# 리스트 컴프리헨션\n",
    "squares = [x**2 for x in range(10)]\n",
    "print(squares)  # [0, 1, 4, 9, 16, 25, 36, 49, 64, 81]\n",
    "\n",
    "# 제너레이터 표현식\n",
    "squares_gen = (x**2 for x in range(10))\n",
    "print(next(squares_gen))  # 0\n",
    "print(next(squares_gen))  # 1\n",
    "print(next(squares_gen))\n",
    "print(next(squares_gen))\n",
    "print(next(squares_gen))\n",
    "print(next(squares_gen))"
   ]
  },
  {
   "cell_type": "code",
   "execution_count": 2,
   "metadata": {},
   "outputs": [],
   "source": [
    "with open('example.txt', 'w') as file:\n",
    "    file.write(\"Hello, World!\")"
   ]
  }
 ],
 "metadata": {
  "kernelspec": {
   "display_name": "test1026",
   "language": "python",
   "name": "python3"
  },
  "language_info": {
   "codemirror_mode": {
    "name": "ipython",
    "version": 3
   },
   "file_extension": ".py",
   "mimetype": "text/x-python",
   "name": "python",
   "nbconvert_exporter": "python",
   "pygments_lexer": "ipython3",
   "version": "3.10.16"
  }
 },
 "nbformat": 4,
 "nbformat_minor": 2
}
